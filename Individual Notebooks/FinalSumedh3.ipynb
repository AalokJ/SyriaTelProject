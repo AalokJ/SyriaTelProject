{
 "cells": [
  {
   "cell_type": "code",
   "execution_count": 417,
   "metadata": {},
   "outputs": [],
   "source": [
    "import pandas as pd\n",
    "import matplotlib.pyplot as plt\n",
    "from matplotlib import pyplot\n",
    "%matplotlib inline\n",
    "import numpy as np\n",
    "import seaborn as sns\n",
    "import warnings\n",
    "warnings.simplefilter('ignore')\n",
    "\n",
    "\n",
    "from sklearn.linear_model import LogisticRegression\n",
    "from sklearn import metrics\n",
    "from sklearn.metrics import confusion_matrix\n",
    "from sklearn.metrics import plot_confusion_matrix\n",
    "from sklearn.metrics import precision_score, recall_score, accuracy_score, f1_score\n",
    "from sklearn.metrics import roc_curve, auc\n",
    "from sklearn.datasets import make_classification\n",
    "from sklearn.model_selection import RepeatedStratifiedKFold\n",
    "from sklearn.model_selection import KFold\n",
    "from sklearn.feature_selection import RFE\n",
    "from sklearn.model_selection import train_test_split\n",
    "\n",
    "from sklearn.neighbors import KNeighborsClassifier\n",
    "from sklearn.preprocessing import StandardScaler\n",
    "from sklearn.ensemble import RandomForestClassifier\n",
    "from sklearn.ensemble import BaggingClassifier\n",
    "from sklearn.tree import DecisionTreeClassifier\n",
    "import xgboost as xgb\n",
    "from sklearn.model_selection import GridSearchCV\n",
    "from xgboost import plot_importance\n",
    "\n",
    "from math import log\n",
    "from sklearn.tree import DecisionTreeClassifier \n",
    "from sklearn.preprocessing import OneHotEncoder\n",
    "from sklearn import tree\n",
    "\n",
    "from collections import Counter\n",
    "import imblearn\n",
    "from imblearn.over_sampling import RandomOverSampler\n",
    "from imblearn.under_sampling import RandomUnderSampler\n",
    "from imblearn.over_sampling import SMOTE\n",
    "\n",
    "from sklearn.preprocessing import OneHotEncoder\n",
    "\n",
    "\n",
    "from sklearn.model_selection import train_test_split, GridSearchCV, cross_val_score\n",
    "from sklearn.tree import DecisionTreeClassifier\n",
    "from sklearn.ensemble import RandomForestClassifier, AdaBoostClassifier\n",
    "from sklearn.metrics import accuracy_score"
   ]
  },
  {
   "cell_type": "code",
   "execution_count": 418,
   "metadata": {},
   "outputs": [],
   "source": [
    "def model_predictions(model, x_train, x_test, y_train, y_test):\n",
    "    '''Enter model name and test/train sets to generate predictions, precision, recall, accuracy, and F1 score'''\n",
    "    model.fit(x_train, y_train)\n",
    "    y_hat_train = model.predict(x_train)\n",
    "    y_hat_test = model.predict(x_test)\n",
    "    print('Training Precision: ', precision_score(y_train, y_hat_train))\n",
    "    print('Testing Precision: ', precision_score(y_test, y_hat_test))\n",
    "    print('-----')\n",
    "\n",
    "    print('Training Recall: ', recall_score(y_train, y_hat_train))\n",
    "    print('Testing Recall: ', recall_score(y_test, y_hat_test))\n",
    "    print('-----')\n",
    "\n",
    "    print('Training Accuracy: ', accuracy_score(y_train, y_hat_train))\n",
    "    print('Testing Accuracy: ', accuracy_score(y_test, y_hat_test))\n",
    "    print('-----')\n",
    "\n",
    "    print('Training F1-Score: ', f1_score(y_train, y_hat_train))\n",
    "    print('Testing F1-Score: ', f1_score(y_test, y_hat_test))"
   ]
  },
  {
   "cell_type": "code",
   "execution_count": 419,
   "metadata": {},
   "outputs": [],
   "source": [
    "def confusion_matrix(model, x_test, y_test):\n",
    "    '''Plot confusion matrix with test set'''\n",
    "    plot_confusion_matrix(model, x_test, y_test, cmap=plt.cm.Purples)\n",
    "    plt.show()"
   ]
  },
  {
   "cell_type": "code",
   "execution_count": 420,
   "metadata": {},
   "outputs": [],
   "source": [
    "def plot_roc(model, x_train, x_test, y_train, y_test):\n",
    "    '''Plot ROC for test set and train set with decision_function'''\n",
    "    y_test_score = model.decision_function(x_test)\n",
    "    y_train_score = model.decision_function(x_train)\n",
    "\n",
    "    train_fpr, train_tpr, train_thresholds = metrics.roc_curve(y_train, y_train_score)\n",
    "    test_fpr, test_tpr, test_thresholds = metrics.roc_curve(y_test, y_test_score)\n",
    "\n",
    "    plt.figure(figsize = (6, 6))\n",
    "    plt.plot(train_fpr, train_tpr, color = 'purple', label = 'Train ROC curve')\n",
    "    plt.plot(test_fpr, test_tpr, color = 'red', label = 'Test ROC curve')\n",
    "    plt.plot([0,1], [0,1], color = 'black', linestyle ='--')\n",
    "    plt.xlim([0.0,1.0])\n",
    "    plt.ylim([0.0, 1.05])\n",
    "    plt.yticks([i/20.0 for i in range(21)])\n",
    "    plt.xticks([i/20.0 for i in range(21)])\n",
    "    plt.xticks(rotation = 90)\n",
    "    plt.xlabel('FP Rate')\n",
    "    plt.ylabel('TP Rate')\n",
    "    plt.title('ROC Curve')\n",
    "    plt.legend(loc='lower right')\n",
    "    plt.show()\n",
    "\n",
    "    print('Train AUC: {}'.format(auc(train_fpr, train_tpr)))\n",
    "    print('Test AUC: {}'.format(auc(test_fpr, test_tpr)))"
   ]
  },
  {
   "cell_type": "code",
   "execution_count": 421,
   "metadata": {},
   "outputs": [],
   "source": [
    "def plot_roc_proba(model, X_train, X_test, y_train, y_test):\n",
    "    '''Plot ROC for test set and train set with predict_proba'''\n",
    "    y_test_score = model.predict_proba(x_test_scaled)\n",
    "    y_train_score = model.predict_proba(x_train_scaled)\n",
    "\n",
    "    train_fpr, train_tpr, train_thresholds = metrics.roc_curve(y_train, y_train_score[:,1])\n",
    "    test_fpr, test_tpr, test_thresholds = metrics.roc_curve(y_test, y_test_score[:,1])\n",
    "\n",
    "    plt.figure(figsize = (6, 6))\n",
    "    plt.plot(train_fpr, train_tpr, color = 'purple', label = 'Train ROC curve')\n",
    "    plt.plot(test_fpr, test_tpr, color = 'red', label = 'Test ROC curve')\n",
    "    plt.plot([0,1], [0,1], color = 'black', linestyle ='--')\n",
    "    plt.xlim([0.0,1.0])\n",
    "    plt.ylim([0.0, 1.05])\n",
    "    plt.yticks([i/20.0 for i in range(21)])\n",
    "    plt.xticks([i/20.0 for i in range(21)])\n",
    "    plt.xticks(rotation = 90)\n",
    "    plt.xlabel('False Positive Rate')\n",
    "    plt.ylabel('True Positive Rate')\n",
    "    plt.title('ROC Curve')\n",
    "    plt.legend(loc='lower right')\n",
    "    plt.show()\n",
    "\n",
    "    print('Train AUC: {}'.format(auc(train_fpr, train_tpr)))\n",
    "    print('Test AUC: {}'.format(auc(test_fpr, test_tpr)))"
   ]
  },
  {
   "cell_type": "code",
   "execution_count": 422,
   "metadata": {},
   "outputs": [],
   "source": [
    "def plot_roc_pp(model, X_train, X_test, y_train, y_test):\n",
    "\n",
    "    \"\"\"\n",
    "    Input: Model, Train and Test data.\n",
    "    Output: Train and Test AUC, Roc Curve for Train and Test sets.\n",
    "    This function works for classification models with predict_proba attribute.\n",
    "    \"\"\"\n",
    "    y_train_score = model.predict_proba(X_train)\n",
    "    y_test_score = model.predict_proba(X_test)\n",
    "    \n",
    "    train_fpr, train_tpr, train_thresholds = roc_curve(y_train, y_train_score [:,1])\n",
    "    test_fpr, test_tpr, test_thresholds = roc_curve(y_test, y_test_score [:,1])\n",
    "    \n",
    "    print('Train AUC: {}'.format(auc(train_fpr, train_tpr)))\n",
    "    print('Test AUC: {}'.format(auc(test_fpr, test_tpr)))\n",
    "    print('------------------------------------')\n",
    "    \n",
    "    plt.figure(figsize=(10, 8))\n",
    "    lw = 2\n",
    "    \n",
    "    plt.plot(train_fpr, train_tpr, color='blue',\n",
    "             lw=lw, label='Train ROC curve')\n",
    "    plt.plot(test_fpr, test_tpr, color='red',\n",
    "             lw=lw, label='Test ROC curve')\n",
    "    \n",
    "    plt.plot([0, 1], [0, 1], color='black', lw=lw, linestyle='--')\n",
    "    plt.xlim([0.0, 1.0])\n",
    "    plt.ylim([0.0, 1.05])\n",
    "    plt.yticks([i/20.0 for i in range(21)])\n",
    "    plt.xticks([i/20.0 for i in range(21)])\n",
    "    plt.xlabel('False Positive Rate')\n",
    "    plt.ylabel('True Positive Rate')\n",
    "    plt.title('Receiver operating characteristic (ROC) Curve')\n",
    "    plt.legend(loc='lower right')\n",
    "    plt.show()"
   ]
  },
  {
   "cell_type": "code",
   "execution_count": 423,
   "metadata": {},
   "outputs": [],
   "source": [
    "def model_control_pp(model, X_train, X_test, y_train, y_test):\n",
    "\n",
    "    \"\"\"\n",
    "    This function includes all the functions we created above.\n",
    "    Roc Curve has predict_proba attribute.\n",
    "    \"\"\"\n",
    "    \n",
    "    model.fit(X_train, y_train)\n",
    "    print('Train Score:', model.score(X_train, y_train))\n",
    "    print('Test Score:', model.score(X_test, y_test))\n",
    "    print('------------------------------------')\n",
    "    \n",
    "    model_predictions(model, X_train, X_test, y_train, y_test)\n",
    "    confusion_matrix(model, X_test, y_test)\n",
    "    plot_roc_pp(model, X_train, X_test, y_train, y_test)"
   ]
  },
  {
   "cell_type": "code",
   "execution_count": 424,
   "metadata": {},
   "outputs": [
    {
     "name": "stdout",
     "output_type": "stream",
     "text": [
      "<class 'pandas.core.frame.DataFrame'>\n",
      "RangeIndex: 3333 entries, 0 to 3332\n",
      "Data columns (total 21 columns):\n",
      " #   Column                  Non-Null Count  Dtype  \n",
      "---  ------                  --------------  -----  \n",
      " 0   state                   3333 non-null   object \n",
      " 1   account length          3333 non-null   int64  \n",
      " 2   area code               3333 non-null   int64  \n",
      " 3   phone number            3333 non-null   object \n",
      " 4   international plan      3333 non-null   object \n",
      " 5   voice mail plan         3333 non-null   object \n",
      " 6   number vmail messages   3333 non-null   int64  \n",
      " 7   total day minutes       3333 non-null   float64\n",
      " 8   total day calls         3333 non-null   int64  \n",
      " 9   total day charge        3333 non-null   float64\n",
      " 10  total eve minutes       3333 non-null   float64\n",
      " 11  total eve calls         3333 non-null   int64  \n",
      " 12  total eve charge        3333 non-null   float64\n",
      " 13  total night minutes     3333 non-null   float64\n",
      " 14  total night calls       3333 non-null   int64  \n",
      " 15  total night charge      3333 non-null   float64\n",
      " 16  total intl minutes      3333 non-null   float64\n",
      " 17  total intl calls        3333 non-null   int64  \n",
      " 18  total intl charge       3333 non-null   float64\n",
      " 19  customer service calls  3333 non-null   int64  \n",
      " 20  churn                   3333 non-null   bool   \n",
      "dtypes: bool(1), float64(8), int64(8), object(4)\n",
      "memory usage: 524.2+ KB\n"
     ]
    }
   ],
   "source": [
    "df = pd.read_csv('customer_churn_data.csv')\n",
    "df.info()"
   ]
  },
  {
   "cell_type": "code",
   "execution_count": 425,
   "metadata": {},
   "outputs": [
    {
     "data": {
      "text/html": [
       "<div>\n",
       "<style scoped>\n",
       "    .dataframe tbody tr th:only-of-type {\n",
       "        vertical-align: middle;\n",
       "    }\n",
       "\n",
       "    .dataframe tbody tr th {\n",
       "        vertical-align: top;\n",
       "    }\n",
       "\n",
       "    .dataframe thead th {\n",
       "        text-align: right;\n",
       "    }\n",
       "</style>\n",
       "<table border=\"1\" class=\"dataframe\">\n",
       "  <thead>\n",
       "    <tr style=\"text-align: right;\">\n",
       "      <th></th>\n",
       "      <th>state</th>\n",
       "      <th>account length</th>\n",
       "      <th>area code</th>\n",
       "      <th>phone number</th>\n",
       "      <th>international plan</th>\n",
       "      <th>voice mail plan</th>\n",
       "      <th>number vmail messages</th>\n",
       "      <th>total day minutes</th>\n",
       "      <th>total day calls</th>\n",
       "      <th>total day charge</th>\n",
       "      <th>total eve minutes</th>\n",
       "      <th>total eve calls</th>\n",
       "      <th>total eve charge</th>\n",
       "      <th>total night minutes</th>\n",
       "      <th>total night calls</th>\n",
       "      <th>total night charge</th>\n",
       "      <th>total intl minutes</th>\n",
       "      <th>total intl calls</th>\n",
       "      <th>total intl charge</th>\n",
       "      <th>customer service calls</th>\n",
       "      <th>churn</th>\n",
       "    </tr>\n",
       "  </thead>\n",
       "  <tbody>\n",
       "    <tr>\n",
       "      <th>0</th>\n",
       "      <td>KS</td>\n",
       "      <td>128</td>\n",
       "      <td>415</td>\n",
       "      <td>382-4657</td>\n",
       "      <td>no</td>\n",
       "      <td>yes</td>\n",
       "      <td>25</td>\n",
       "      <td>265.1</td>\n",
       "      <td>110</td>\n",
       "      <td>45.07</td>\n",
       "      <td>197.4</td>\n",
       "      <td>99</td>\n",
       "      <td>16.78</td>\n",
       "      <td>244.7</td>\n",
       "      <td>91</td>\n",
       "      <td>11.01</td>\n",
       "      <td>10.0</td>\n",
       "      <td>3</td>\n",
       "      <td>2.70</td>\n",
       "      <td>1</td>\n",
       "      <td>False</td>\n",
       "    </tr>\n",
       "    <tr>\n",
       "      <th>1</th>\n",
       "      <td>OH</td>\n",
       "      <td>107</td>\n",
       "      <td>415</td>\n",
       "      <td>371-7191</td>\n",
       "      <td>no</td>\n",
       "      <td>yes</td>\n",
       "      <td>26</td>\n",
       "      <td>161.6</td>\n",
       "      <td>123</td>\n",
       "      <td>27.47</td>\n",
       "      <td>195.5</td>\n",
       "      <td>103</td>\n",
       "      <td>16.62</td>\n",
       "      <td>254.4</td>\n",
       "      <td>103</td>\n",
       "      <td>11.45</td>\n",
       "      <td>13.7</td>\n",
       "      <td>3</td>\n",
       "      <td>3.70</td>\n",
       "      <td>1</td>\n",
       "      <td>False</td>\n",
       "    </tr>\n",
       "    <tr>\n",
       "      <th>2</th>\n",
       "      <td>NJ</td>\n",
       "      <td>137</td>\n",
       "      <td>415</td>\n",
       "      <td>358-1921</td>\n",
       "      <td>no</td>\n",
       "      <td>no</td>\n",
       "      <td>0</td>\n",
       "      <td>243.4</td>\n",
       "      <td>114</td>\n",
       "      <td>41.38</td>\n",
       "      <td>121.2</td>\n",
       "      <td>110</td>\n",
       "      <td>10.30</td>\n",
       "      <td>162.6</td>\n",
       "      <td>104</td>\n",
       "      <td>7.32</td>\n",
       "      <td>12.2</td>\n",
       "      <td>5</td>\n",
       "      <td>3.29</td>\n",
       "      <td>0</td>\n",
       "      <td>False</td>\n",
       "    </tr>\n",
       "    <tr>\n",
       "      <th>3</th>\n",
       "      <td>OH</td>\n",
       "      <td>84</td>\n",
       "      <td>408</td>\n",
       "      <td>375-9999</td>\n",
       "      <td>yes</td>\n",
       "      <td>no</td>\n",
       "      <td>0</td>\n",
       "      <td>299.4</td>\n",
       "      <td>71</td>\n",
       "      <td>50.90</td>\n",
       "      <td>61.9</td>\n",
       "      <td>88</td>\n",
       "      <td>5.26</td>\n",
       "      <td>196.9</td>\n",
       "      <td>89</td>\n",
       "      <td>8.86</td>\n",
       "      <td>6.6</td>\n",
       "      <td>7</td>\n",
       "      <td>1.78</td>\n",
       "      <td>2</td>\n",
       "      <td>False</td>\n",
       "    </tr>\n",
       "    <tr>\n",
       "      <th>4</th>\n",
       "      <td>OK</td>\n",
       "      <td>75</td>\n",
       "      <td>415</td>\n",
       "      <td>330-6626</td>\n",
       "      <td>yes</td>\n",
       "      <td>no</td>\n",
       "      <td>0</td>\n",
       "      <td>166.7</td>\n",
       "      <td>113</td>\n",
       "      <td>28.34</td>\n",
       "      <td>148.3</td>\n",
       "      <td>122</td>\n",
       "      <td>12.61</td>\n",
       "      <td>186.9</td>\n",
       "      <td>121</td>\n",
       "      <td>8.41</td>\n",
       "      <td>10.1</td>\n",
       "      <td>3</td>\n",
       "      <td>2.73</td>\n",
       "      <td>3</td>\n",
       "      <td>False</td>\n",
       "    </tr>\n",
       "  </tbody>\n",
       "</table>\n",
       "</div>"
      ],
      "text/plain": [
       "  state  account length  area code phone number international plan  \\\n",
       "0    KS             128        415     382-4657                 no   \n",
       "1    OH             107        415     371-7191                 no   \n",
       "2    NJ             137        415     358-1921                 no   \n",
       "3    OH              84        408     375-9999                yes   \n",
       "4    OK              75        415     330-6626                yes   \n",
       "\n",
       "  voice mail plan  number vmail messages  total day minutes  total day calls  \\\n",
       "0             yes                     25              265.1              110   \n",
       "1             yes                     26              161.6              123   \n",
       "2              no                      0              243.4              114   \n",
       "3              no                      0              299.4               71   \n",
       "4              no                      0              166.7              113   \n",
       "\n",
       "   total day charge  total eve minutes  total eve calls  total eve charge  \\\n",
       "0             45.07              197.4               99             16.78   \n",
       "1             27.47              195.5              103             16.62   \n",
       "2             41.38              121.2              110             10.30   \n",
       "3             50.90               61.9               88              5.26   \n",
       "4             28.34              148.3              122             12.61   \n",
       "\n",
       "   total night minutes  total night calls  total night charge  \\\n",
       "0                244.7                 91               11.01   \n",
       "1                254.4                103               11.45   \n",
       "2                162.6                104                7.32   \n",
       "3                196.9                 89                8.86   \n",
       "4                186.9                121                8.41   \n",
       "\n",
       "   total intl minutes  total intl calls  total intl charge  \\\n",
       "0                10.0                 3               2.70   \n",
       "1                13.7                 3               3.70   \n",
       "2                12.2                 5               3.29   \n",
       "3                 6.6                 7               1.78   \n",
       "4                10.1                 3               2.73   \n",
       "\n",
       "   customer service calls  churn  \n",
       "0                       1  False  \n",
       "1                       1  False  \n",
       "2                       0  False  \n",
       "3                       2  False  \n",
       "4                       3  False  "
      ]
     },
     "execution_count": 425,
     "metadata": {},
     "output_type": "execute_result"
    }
   ],
   "source": [
    "pd.set_option('display.max_columns', None)\n",
    "df.head()"
   ]
  },
  {
   "cell_type": "markdown",
   "metadata": {},
   "source": [
    "# Exploring Data"
   ]
  },
  {
   "cell_type": "code",
   "execution_count": 426,
   "metadata": {},
   "outputs": [],
   "source": [
    "# replace strings with binary to make it easier for models\n",
    "df.replace(False, 0, inplace = True)\n",
    "df.replace('no', 0, inplace = True)\n",
    "df.replace(True, 1, inplace = True)\n",
    "df.replace('yes', 1, inplace = True)"
   ]
  },
  {
   "cell_type": "code",
   "execution_count": 427,
   "metadata": {},
   "outputs": [],
   "source": [
    "# calculate total charge\n",
    "df['total charge'] = (df['total day charge'] + df['total eve charge'] + df['total night charge'] + df['total intl charge'])"
   ]
  },
  {
   "cell_type": "code",
   "execution_count": 428,
   "metadata": {},
   "outputs": [],
   "source": [
    "df['total mins'] = (df['total day minutes'] + df['total eve minutes'] + df['total night minutes'] + df['total intl minutes'])"
   ]
  },
  {
   "cell_type": "code",
   "execution_count": 429,
   "metadata": {},
   "outputs": [],
   "source": [
    "df['total calls'] = (df['total day calls'] + df['total eve calls'] + df['total night calls'] + df['total intl calls'])"
   ]
  },
  {
   "cell_type": "code",
   "execution_count": 430,
   "metadata": {},
   "outputs": [
    {
     "data": {
      "text/html": [
       "<div>\n",
       "<style scoped>\n",
       "    .dataframe tbody tr th:only-of-type {\n",
       "        vertical-align: middle;\n",
       "    }\n",
       "\n",
       "    .dataframe tbody tr th {\n",
       "        vertical-align: top;\n",
       "    }\n",
       "\n",
       "    .dataframe thead th {\n",
       "        text-align: right;\n",
       "    }\n",
       "</style>\n",
       "<table border=\"1\" class=\"dataframe\">\n",
       "  <thead>\n",
       "    <tr style=\"text-align: right;\">\n",
       "      <th></th>\n",
       "      <th>account length</th>\n",
       "      <th>area code</th>\n",
       "      <th>international plan</th>\n",
       "      <th>voice mail plan</th>\n",
       "      <th>number vmail messages</th>\n",
       "      <th>total day minutes</th>\n",
       "      <th>total day calls</th>\n",
       "      <th>total day charge</th>\n",
       "      <th>total eve minutes</th>\n",
       "      <th>total eve calls</th>\n",
       "      <th>total eve charge</th>\n",
       "      <th>total night minutes</th>\n",
       "      <th>total night calls</th>\n",
       "      <th>total night charge</th>\n",
       "      <th>total intl minutes</th>\n",
       "      <th>total intl calls</th>\n",
       "      <th>total intl charge</th>\n",
       "      <th>customer service calls</th>\n",
       "      <th>churn</th>\n",
       "      <th>total charge</th>\n",
       "      <th>total mins</th>\n",
       "      <th>total calls</th>\n",
       "    </tr>\n",
       "  </thead>\n",
       "  <tbody>\n",
       "    <tr>\n",
       "      <th>count</th>\n",
       "      <td>3333.000000</td>\n",
       "      <td>3333.000000</td>\n",
       "      <td>3333.000000</td>\n",
       "      <td>3333.000000</td>\n",
       "      <td>3333.000000</td>\n",
       "      <td>3333.000000</td>\n",
       "      <td>3333.000000</td>\n",
       "      <td>3333.000000</td>\n",
       "      <td>3333.000000</td>\n",
       "      <td>3333.000000</td>\n",
       "      <td>3333.000000</td>\n",
       "      <td>3333.000000</td>\n",
       "      <td>3333.000000</td>\n",
       "      <td>3333.000000</td>\n",
       "      <td>3333.000000</td>\n",
       "      <td>3333.000000</td>\n",
       "      <td>3333.000000</td>\n",
       "      <td>3333.000000</td>\n",
       "      <td>3333.000000</td>\n",
       "      <td>3333.000000</td>\n",
       "      <td>3333.000000</td>\n",
       "      <td>3333.000000</td>\n",
       "    </tr>\n",
       "    <tr>\n",
       "      <th>mean</th>\n",
       "      <td>101.064806</td>\n",
       "      <td>437.182418</td>\n",
       "      <td>0.096910</td>\n",
       "      <td>0.276628</td>\n",
       "      <td>8.099010</td>\n",
       "      <td>179.775098</td>\n",
       "      <td>100.435644</td>\n",
       "      <td>30.562307</td>\n",
       "      <td>200.980348</td>\n",
       "      <td>100.114311</td>\n",
       "      <td>17.083540</td>\n",
       "      <td>200.872037</td>\n",
       "      <td>100.107711</td>\n",
       "      <td>9.039325</td>\n",
       "      <td>10.237294</td>\n",
       "      <td>4.479448</td>\n",
       "      <td>2.764581</td>\n",
       "      <td>1.562856</td>\n",
       "      <td>0.144914</td>\n",
       "      <td>59.449754</td>\n",
       "      <td>591.864776</td>\n",
       "      <td>305.137114</td>\n",
       "    </tr>\n",
       "    <tr>\n",
       "      <th>std</th>\n",
       "      <td>39.822106</td>\n",
       "      <td>42.371290</td>\n",
       "      <td>0.295879</td>\n",
       "      <td>0.447398</td>\n",
       "      <td>13.688365</td>\n",
       "      <td>54.467389</td>\n",
       "      <td>20.069084</td>\n",
       "      <td>9.259435</td>\n",
       "      <td>50.713844</td>\n",
       "      <td>19.922625</td>\n",
       "      <td>4.310668</td>\n",
       "      <td>50.573847</td>\n",
       "      <td>19.568609</td>\n",
       "      <td>2.275873</td>\n",
       "      <td>2.791840</td>\n",
       "      <td>2.461214</td>\n",
       "      <td>0.753773</td>\n",
       "      <td>1.315491</td>\n",
       "      <td>0.352067</td>\n",
       "      <td>10.502261</td>\n",
       "      <td>89.954251</td>\n",
       "      <td>34.448164</td>\n",
       "    </tr>\n",
       "    <tr>\n",
       "      <th>min</th>\n",
       "      <td>1.000000</td>\n",
       "      <td>408.000000</td>\n",
       "      <td>0.000000</td>\n",
       "      <td>0.000000</td>\n",
       "      <td>0.000000</td>\n",
       "      <td>0.000000</td>\n",
       "      <td>0.000000</td>\n",
       "      <td>0.000000</td>\n",
       "      <td>0.000000</td>\n",
       "      <td>0.000000</td>\n",
       "      <td>0.000000</td>\n",
       "      <td>23.200000</td>\n",
       "      <td>33.000000</td>\n",
       "      <td>1.040000</td>\n",
       "      <td>0.000000</td>\n",
       "      <td>0.000000</td>\n",
       "      <td>0.000000</td>\n",
       "      <td>0.000000</td>\n",
       "      <td>0.000000</td>\n",
       "      <td>22.930000</td>\n",
       "      <td>284.300000</td>\n",
       "      <td>191.000000</td>\n",
       "    </tr>\n",
       "    <tr>\n",
       "      <th>25%</th>\n",
       "      <td>74.000000</td>\n",
       "      <td>408.000000</td>\n",
       "      <td>0.000000</td>\n",
       "      <td>0.000000</td>\n",
       "      <td>0.000000</td>\n",
       "      <td>143.700000</td>\n",
       "      <td>87.000000</td>\n",
       "      <td>24.430000</td>\n",
       "      <td>166.600000</td>\n",
       "      <td>87.000000</td>\n",
       "      <td>14.160000</td>\n",
       "      <td>167.000000</td>\n",
       "      <td>87.000000</td>\n",
       "      <td>7.520000</td>\n",
       "      <td>8.500000</td>\n",
       "      <td>3.000000</td>\n",
       "      <td>2.300000</td>\n",
       "      <td>1.000000</td>\n",
       "      <td>0.000000</td>\n",
       "      <td>52.380000</td>\n",
       "      <td>531.500000</td>\n",
       "      <td>282.000000</td>\n",
       "    </tr>\n",
       "    <tr>\n",
       "      <th>50%</th>\n",
       "      <td>101.000000</td>\n",
       "      <td>415.000000</td>\n",
       "      <td>0.000000</td>\n",
       "      <td>0.000000</td>\n",
       "      <td>0.000000</td>\n",
       "      <td>179.400000</td>\n",
       "      <td>101.000000</td>\n",
       "      <td>30.500000</td>\n",
       "      <td>201.400000</td>\n",
       "      <td>100.000000</td>\n",
       "      <td>17.120000</td>\n",
       "      <td>201.200000</td>\n",
       "      <td>100.000000</td>\n",
       "      <td>9.050000</td>\n",
       "      <td>10.300000</td>\n",
       "      <td>4.000000</td>\n",
       "      <td>2.780000</td>\n",
       "      <td>1.000000</td>\n",
       "      <td>0.000000</td>\n",
       "      <td>59.470000</td>\n",
       "      <td>593.600000</td>\n",
       "      <td>305.000000</td>\n",
       "    </tr>\n",
       "    <tr>\n",
       "      <th>75%</th>\n",
       "      <td>127.000000</td>\n",
       "      <td>510.000000</td>\n",
       "      <td>0.000000</td>\n",
       "      <td>1.000000</td>\n",
       "      <td>20.000000</td>\n",
       "      <td>216.400000</td>\n",
       "      <td>114.000000</td>\n",
       "      <td>36.790000</td>\n",
       "      <td>235.300000</td>\n",
       "      <td>114.000000</td>\n",
       "      <td>20.000000</td>\n",
       "      <td>235.300000</td>\n",
       "      <td>113.000000</td>\n",
       "      <td>10.590000</td>\n",
       "      <td>12.100000</td>\n",
       "      <td>6.000000</td>\n",
       "      <td>3.270000</td>\n",
       "      <td>2.000000</td>\n",
       "      <td>0.000000</td>\n",
       "      <td>66.480000</td>\n",
       "      <td>652.400000</td>\n",
       "      <td>328.000000</td>\n",
       "    </tr>\n",
       "    <tr>\n",
       "      <th>max</th>\n",
       "      <td>243.000000</td>\n",
       "      <td>510.000000</td>\n",
       "      <td>1.000000</td>\n",
       "      <td>1.000000</td>\n",
       "      <td>51.000000</td>\n",
       "      <td>350.800000</td>\n",
       "      <td>165.000000</td>\n",
       "      <td>59.640000</td>\n",
       "      <td>363.700000</td>\n",
       "      <td>170.000000</td>\n",
       "      <td>30.910000</td>\n",
       "      <td>395.000000</td>\n",
       "      <td>175.000000</td>\n",
       "      <td>17.770000</td>\n",
       "      <td>20.000000</td>\n",
       "      <td>20.000000</td>\n",
       "      <td>5.400000</td>\n",
       "      <td>9.000000</td>\n",
       "      <td>1.000000</td>\n",
       "      <td>96.150000</td>\n",
       "      <td>885.000000</td>\n",
       "      <td>416.000000</td>\n",
       "    </tr>\n",
       "  </tbody>\n",
       "</table>\n",
       "</div>"
      ],
      "text/plain": [
       "       account length    area code  international plan  voice mail plan  \\\n",
       "count     3333.000000  3333.000000         3333.000000      3333.000000   \n",
       "mean       101.064806   437.182418            0.096910         0.276628   \n",
       "std         39.822106    42.371290            0.295879         0.447398   \n",
       "min          1.000000   408.000000            0.000000         0.000000   \n",
       "25%         74.000000   408.000000            0.000000         0.000000   \n",
       "50%        101.000000   415.000000            0.000000         0.000000   \n",
       "75%        127.000000   510.000000            0.000000         1.000000   \n",
       "max        243.000000   510.000000            1.000000         1.000000   \n",
       "\n",
       "       number vmail messages  total day minutes  total day calls  \\\n",
       "count            3333.000000        3333.000000      3333.000000   \n",
       "mean                8.099010         179.775098       100.435644   \n",
       "std                13.688365          54.467389        20.069084   \n",
       "min                 0.000000           0.000000         0.000000   \n",
       "25%                 0.000000         143.700000        87.000000   \n",
       "50%                 0.000000         179.400000       101.000000   \n",
       "75%                20.000000         216.400000       114.000000   \n",
       "max                51.000000         350.800000       165.000000   \n",
       "\n",
       "       total day charge  total eve minutes  total eve calls  total eve charge  \\\n",
       "count       3333.000000        3333.000000      3333.000000       3333.000000   \n",
       "mean          30.562307         200.980348       100.114311         17.083540   \n",
       "std            9.259435          50.713844        19.922625          4.310668   \n",
       "min            0.000000           0.000000         0.000000          0.000000   \n",
       "25%           24.430000         166.600000        87.000000         14.160000   \n",
       "50%           30.500000         201.400000       100.000000         17.120000   \n",
       "75%           36.790000         235.300000       114.000000         20.000000   \n",
       "max           59.640000         363.700000       170.000000         30.910000   \n",
       "\n",
       "       total night minutes  total night calls  total night charge  \\\n",
       "count          3333.000000        3333.000000         3333.000000   \n",
       "mean            200.872037         100.107711            9.039325   \n",
       "std              50.573847          19.568609            2.275873   \n",
       "min              23.200000          33.000000            1.040000   \n",
       "25%             167.000000          87.000000            7.520000   \n",
       "50%             201.200000         100.000000            9.050000   \n",
       "75%             235.300000         113.000000           10.590000   \n",
       "max             395.000000         175.000000           17.770000   \n",
       "\n",
       "       total intl minutes  total intl calls  total intl charge  \\\n",
       "count         3333.000000       3333.000000        3333.000000   \n",
       "mean            10.237294          4.479448           2.764581   \n",
       "std              2.791840          2.461214           0.753773   \n",
       "min              0.000000          0.000000           0.000000   \n",
       "25%              8.500000          3.000000           2.300000   \n",
       "50%             10.300000          4.000000           2.780000   \n",
       "75%             12.100000          6.000000           3.270000   \n",
       "max             20.000000         20.000000           5.400000   \n",
       "\n",
       "       customer service calls        churn  total charge   total mins  \\\n",
       "count             3333.000000  3333.000000   3333.000000  3333.000000   \n",
       "mean                 1.562856     0.144914     59.449754   591.864776   \n",
       "std                  1.315491     0.352067     10.502261    89.954251   \n",
       "min                  0.000000     0.000000     22.930000   284.300000   \n",
       "25%                  1.000000     0.000000     52.380000   531.500000   \n",
       "50%                  1.000000     0.000000     59.470000   593.600000   \n",
       "75%                  2.000000     0.000000     66.480000   652.400000   \n",
       "max                  9.000000     1.000000     96.150000   885.000000   \n",
       "\n",
       "       total calls  \n",
       "count  3333.000000  \n",
       "mean    305.137114  \n",
       "std      34.448164  \n",
       "min     191.000000  \n",
       "25%     282.000000  \n",
       "50%     305.000000  \n",
       "75%     328.000000  \n",
       "max     416.000000  "
      ]
     },
     "execution_count": 430,
     "metadata": {},
     "output_type": "execute_result"
    }
   ],
   "source": [
    "df.describe()"
   ]
  },
  {
   "cell_type": "markdown",
   "metadata": {},
   "source": [
    "based on this data it can be inferred there are no outliers in this data set"
   ]
  },
  {
   "cell_type": "code",
   "execution_count": 431,
   "metadata": {},
   "outputs": [
    {
     "name": "stdout",
     "output_type": "stream",
     "text": [
      "Column Name: state \n",
      "\n",
      "WV    106\n",
      "MN     84\n",
      "NY     83\n",
      "AL     80\n",
      "OH     78\n",
      "WI     78\n",
      "OR     78\n",
      "VA     77\n",
      "WY     77\n",
      "CT     74\n",
      "VT     73\n",
      "ID     73\n",
      "MI     73\n",
      "UT     72\n",
      "TX     72\n",
      "IN     71\n",
      "KS     70\n",
      "MD     70\n",
      "NJ     68\n",
      "MT     68\n",
      "NC     68\n",
      "NV     66\n",
      "WA     66\n",
      "CO     66\n",
      "MS     65\n",
      "RI     65\n",
      "MA     65\n",
      "AZ     64\n",
      "MO     63\n",
      "FL     63\n",
      "ND     62\n",
      "ME     62\n",
      "NM     62\n",
      "OK     61\n",
      "DE     61\n",
      "NE     61\n",
      "SD     60\n",
      "SC     60\n",
      "KY     59\n",
      "IL     58\n",
      "NH     56\n",
      "AR     55\n",
      "GA     54\n",
      "DC     54\n",
      "HI     53\n",
      "TN     53\n",
      "AK     52\n",
      "LA     51\n",
      "PA     45\n",
      "IA     44\n",
      "CA     34\n",
      "Name: state, dtype: int64\n",
      "---------------------------------------------\n",
      "\n",
      "\n",
      "Column Name: account length \n",
      "\n",
      "105    43\n",
      "87     42\n",
      "93     40\n",
      "101    40\n",
      "90     39\n",
      "       ..\n",
      "191     1\n",
      "199     1\n",
      "215     1\n",
      "221     1\n",
      "2       1\n",
      "Name: account length, Length: 212, dtype: int64\n",
      "---------------------------------------------\n",
      "\n",
      "\n",
      "Column Name: area code \n",
      "\n",
      "415    1655\n",
      "510     840\n",
      "408     838\n",
      "Name: area code, dtype: int64\n",
      "---------------------------------------------\n",
      "\n",
      "\n",
      "Column Name: phone number \n",
      "\n",
      "389-4602    1\n",
      "340-5580    1\n",
      "338-1400    1\n",
      "407-8012    1\n",
      "367-3950    1\n",
      "           ..\n",
      "331-9861    1\n",
      "334-7443    1\n",
      "369-5449    1\n",
      "399-2151    1\n",
      "329-2388    1\n",
      "Name: phone number, Length: 3333, dtype: int64\n",
      "---------------------------------------------\n",
      "\n",
      "\n",
      "Column Name: international plan \n",
      "\n",
      "0    3010\n",
      "1     323\n",
      "Name: international plan, dtype: int64\n",
      "---------------------------------------------\n",
      "\n",
      "\n",
      "Column Name: voice mail plan \n",
      "\n",
      "0    2411\n",
      "1     922\n",
      "Name: voice mail plan, dtype: int64\n",
      "---------------------------------------------\n",
      "\n",
      "\n",
      "Column Name: number vmail messages \n",
      "\n",
      "0     2411\n",
      "31      60\n",
      "29      53\n",
      "28      51\n",
      "33      46\n",
      "27      44\n",
      "30      44\n",
      "24      42\n",
      "26      41\n",
      "32      41\n",
      "25      37\n",
      "23      36\n",
      "36      34\n",
      "35      32\n",
      "22      32\n",
      "39      30\n",
      "37      29\n",
      "34      29\n",
      "21      28\n",
      "38      25\n",
      "20      22\n",
      "19      19\n",
      "40      16\n",
      "42      15\n",
      "17      14\n",
      "41      13\n",
      "16      13\n",
      "43       9\n",
      "15       9\n",
      "18       7\n",
      "44       7\n",
      "14       7\n",
      "45       6\n",
      "12       6\n",
      "46       4\n",
      "13       4\n",
      "47       3\n",
      "8        2\n",
      "48       2\n",
      "50       2\n",
      "9        2\n",
      "11       2\n",
      "49       1\n",
      "10       1\n",
      "4        1\n",
      "51       1\n",
      "Name: number vmail messages, dtype: int64\n",
      "---------------------------------------------\n",
      "\n",
      "\n",
      "Column Name: total day minutes \n",
      "\n",
      "174.5    8\n",
      "159.5    8\n",
      "154.0    8\n",
      "175.4    7\n",
      "162.3    7\n",
      "        ..\n",
      "199.9    1\n",
      "105.8    1\n",
      "125.6    1\n",
      "179.8    1\n",
      "270.8    1\n",
      "Name: total day minutes, Length: 1667, dtype: int64\n",
      "---------------------------------------------\n",
      "\n",
      "\n",
      "Column Name: total day calls \n",
      "\n",
      "102    78\n",
      "105    75\n",
      "107    69\n",
      "95     69\n",
      "104    68\n",
      "       ..\n",
      "149     1\n",
      "157     1\n",
      "36      1\n",
      "30      1\n",
      "165     1\n",
      "Name: total day calls, Length: 119, dtype: int64\n",
      "---------------------------------------------\n",
      "\n",
      "\n",
      "Column Name: total day charge \n",
      "\n",
      "27.12    8\n",
      "26.18    8\n",
      "29.67    8\n",
      "31.18    7\n",
      "27.59    7\n",
      "        ..\n",
      "19.36    1\n",
      "16.95    1\n",
      "34.12    1\n",
      "48.35    1\n",
      "13.28    1\n",
      "Name: total day charge, Length: 1667, dtype: int64\n",
      "---------------------------------------------\n",
      "\n",
      "\n",
      "Column Name: total eve minutes \n",
      "\n",
      "169.9    9\n",
      "230.9    7\n",
      "209.4    7\n",
      "201.0    7\n",
      "220.6    7\n",
      "        ..\n",
      "335.0    1\n",
      "258.9    1\n",
      "134.7    1\n",
      "318.8    1\n",
      "317.2    1\n",
      "Name: total eve minutes, Length: 1611, dtype: int64\n",
      "---------------------------------------------\n",
      "\n",
      "\n",
      "Column Name: total eve calls \n",
      "\n",
      "105    80\n",
      "94     79\n",
      "108    71\n",
      "97     70\n",
      "102    70\n",
      "       ..\n",
      "45      1\n",
      "49      1\n",
      "145     1\n",
      "153     1\n",
      "0       1\n",
      "Name: total eve calls, Length: 123, dtype: int64\n",
      "---------------------------------------------\n",
      "\n",
      "\n",
      "Column Name: total eve charge \n",
      "\n",
      "14.25    11\n",
      "16.12    11\n",
      "15.90    10\n",
      "18.62     9\n",
      "14.44     9\n",
      "         ..\n",
      "12.64     1\n",
      "13.83     1\n",
      "11.39     1\n",
      "28.03     1\n",
      "20.53     1\n",
      "Name: total eve charge, Length: 1440, dtype: int64\n",
      "---------------------------------------------\n",
      "\n",
      "\n",
      "Column Name: total night minutes \n",
      "\n",
      "210.0    8\n",
      "214.6    8\n",
      "197.4    8\n",
      "191.4    8\n",
      "188.2    8\n",
      "        ..\n",
      "132.3    1\n",
      "306.2    1\n",
      "293.5    1\n",
      "271.7    1\n",
      "182.6    1\n",
      "Name: total night minutes, Length: 1591, dtype: int64\n",
      "---------------------------------------------\n",
      "\n",
      "\n",
      "Column Name: total night calls \n",
      "\n",
      "105    84\n",
      "104    78\n",
      "91     76\n",
      "102    72\n",
      "100    69\n",
      "       ..\n",
      "164     1\n",
      "166     1\n",
      "33      1\n",
      "149     1\n",
      "36      1\n",
      "Name: total night calls, Length: 120, dtype: int64\n",
      "---------------------------------------------\n",
      "\n",
      "\n",
      "Column Name: total night charge \n",
      "\n",
      "9.66     15\n",
      "9.45     15\n",
      "8.88     14\n",
      "8.47     14\n",
      "7.69     13\n",
      "         ..\n",
      "14.65     1\n",
      "6.46      1\n",
      "3.94      1\n",
      "15.74     1\n",
      "6.14      1\n",
      "Name: total night charge, Length: 933, dtype: int64\n",
      "---------------------------------------------\n",
      "\n",
      "\n",
      "Column Name: total intl minutes \n",
      "\n",
      "10.0    62\n",
      "11.3    59\n",
      "9.8     56\n",
      "10.9    56\n",
      "10.1    53\n",
      "        ..\n",
      "18.9     1\n",
      "1.3      1\n",
      "2.7      1\n",
      "2.6      1\n",
      "3.1      1\n",
      "Name: total intl minutes, Length: 162, dtype: int64\n",
      "---------------------------------------------\n",
      "\n",
      "\n",
      "Column Name: total intl calls \n",
      "\n",
      "3     668\n",
      "4     619\n",
      "2     489\n",
      "5     472\n",
      "6     336\n",
      "7     218\n",
      "1     160\n",
      "8     116\n",
      "9     109\n",
      "10     50\n",
      "11     28\n",
      "0      18\n",
      "12     15\n",
      "13     14\n",
      "15      7\n",
      "14      6\n",
      "18      3\n",
      "16      2\n",
      "19      1\n",
      "17      1\n",
      "20      1\n",
      "Name: total intl calls, dtype: int64\n",
      "---------------------------------------------\n",
      "\n",
      "\n",
      "Column Name: total intl charge \n",
      "\n",
      "2.70    62\n",
      "3.05    59\n",
      "2.65    56\n",
      "2.94    56\n",
      "2.73    53\n",
      "        ..\n",
      "0.68     1\n",
      "4.83     1\n",
      "0.84     1\n",
      "0.30     1\n",
      "5.40     1\n",
      "Name: total intl charge, Length: 162, dtype: int64\n",
      "---------------------------------------------\n",
      "\n",
      "\n",
      "Column Name: customer service calls \n",
      "\n",
      "1    1181\n",
      "2     759\n",
      "0     697\n",
      "3     429\n",
      "4     166\n",
      "5      66\n",
      "6      22\n",
      "7       9\n",
      "9       2\n",
      "8       2\n",
      "Name: customer service calls, dtype: int64\n",
      "---------------------------------------------\n",
      "\n",
      "\n",
      "Column Name: churn \n",
      "\n",
      "0.0    2850\n",
      "1.0     483\n",
      "Name: churn, dtype: int64\n",
      "---------------------------------------------\n",
      "\n",
      "\n",
      "Column Name: total charge \n",
      "\n",
      "65.25    5\n",
      "62.01    4\n",
      "65.02    4\n",
      "53.31    4\n",
      "50.04    4\n",
      "        ..\n",
      "61.22    1\n",
      "67.93    1\n",
      "43.85    1\n",
      "52.25    1\n",
      "48.62    1\n",
      "Name: total charge, Length: 2678, dtype: int64\n",
      "---------------------------------------------\n",
      "\n",
      "\n",
      "Column Name: total mins \n",
      "\n",
      "560.5    5\n",
      "530.0    5\n",
      "595.5    5\n",
      "602.4    5\n",
      "627.3    5\n",
      "        ..\n",
      "417.9    1\n",
      "521.0    1\n",
      "622.5    1\n",
      "627.0    1\n",
      "592.0    1\n",
      "Name: total mins, Length: 2564, dtype: int64\n",
      "---------------------------------------------\n",
      "\n",
      "\n",
      "Column Name: total calls \n",
      "\n",
      "314    54\n",
      "324    47\n",
      "308    46\n",
      "301    45\n",
      "305    44\n",
      "       ..\n",
      "391     1\n",
      "393     1\n",
      "395     1\n",
      "397     1\n",
      "191     1\n",
      "Name: total calls, Length: 195, dtype: int64\n",
      "---------------------------------------------\n",
      "\n",
      "\n"
     ]
    }
   ],
   "source": [
    "#get value counts for every column\n",
    "for col in df.columns:\n",
    "    print('Column Name:', col,'\\n')\n",
    "    print(df[col].value_counts())\n",
    "    print('---------------------------------------------')\n",
    "    print('\\n')"
   ]
  },
  {
   "cell_type": "markdown",
   "metadata": {},
   "source": [
    "## Initial Thoughts\n",
    "\n",
    "From what we can see above there seems to be three types of data stored in the columns - ordinal, nominal, numerical. Below is a list of which each column falls into.\n",
    "\n",
    "Numerical (14) - \"number vmail messages\", \"total day minutes\", \"total day calls\", \"total day charge\", \"total even minutes\", \"total eve calls\", \"total eve charge\", \"total night minutes\", \"total night calls\", \"total night charge\", \"total night minutes\", \"total intl calls\", \"total intl charge\", \"customer service calls\", \"account length\"\n",
    "\n",
    "Ordinal (3) - \"international plan\", \"voice mail plan\", \"churn\"\n",
    "\n",
    "Nominal (3) - \"state\", \"phone number\", \"area code\"\n",
    "\n",
    "All columns will need the standard scaler applied to them, ordinal variables may need to be OHE or simply replaced inplace with 0 or 1. Pending analysis to suggest otherwise area code and phone number seem like they can be dropped. It is possible however that a given state or area code could have a high correlation with churn - our target."
   ]
  },
  {
   "cell_type": "markdown",
   "metadata": {},
   "source": [
    "The ordinal variables seem to have been taken care of - now we can drop phone number as this is unique to every single customer."
   ]
  },
  {
   "cell_type": "code",
   "execution_count": 432,
   "metadata": {},
   "outputs": [],
   "source": [
    "#df = df.drop(['phone number'], axis=1)"
   ]
  },
  {
   "cell_type": "code",
   "execution_count": 433,
   "metadata": {},
   "outputs": [],
   "source": [
    "df['region'] = df['state'].map({'CA': 0, 'NV': 0, 'UT': 0, 'CO': 0, 'WY': 0, 'ID' : 0, 'MT' : 0, 'OR' : 0, 'WA' : 0, 'AK' : 0, 'HI' : 0, 'AZ' : 1, 'NM' : 1, 'OK' : 1, 'TX' : 1, 'ND': 2, 'SD' : 2, 'KS' : 2, 'NE' : 2, 'MO' : 2, 'IA' : 2, 'MN' : 2, 'WI' : 2,'IL' : 2,'IN' : 2, 'OH' : 2, 'MI' : 2, 'AR' : 3, 'TN' : 3 , 'LA' : 3, 'MS' : 3,'AL' : 3, 'GA' : 3, 'FL' : 3,'SC' : 3, 'NC' : 3, 'KY' : 3, 'VA' : 3,'WV' : 3, 'DC': 4, 'MD' : 4, 'DE' : 4, 'PA' : 4, 'NJ' : 4, 'NY' : 4, 'VT' : 4, 'NH' : 4, 'ME' : 4, 'MA' : 4, 'CT' : 4, 'RI' : 4})"
   ]
  },
  {
   "cell_type": "code",
   "execution_count": 434,
   "metadata": {},
   "outputs": [],
   "source": [
    "#df['region'] = df['state'].map({'AZ' : 'Southwest', 'NM' : 'Southwest', 'OK' : 'Southwest', 'TX' : 'Southwest'})\n",
    "#df['region'] = df['state'].map({'ND': 'Midwest', 'SD' : 'Midwest', 'KS' : 'Midwest', 'NE' : 'Midwest', 'MO' : 'Midwest', 'IA' : 'Midwest', 'MN' : 'Midwest', 'WI' : 'Midwest','IL' : 'Midwest','IN' : 'Midwest', 'OH' : 'Midwest', 'MI' : 'Midwest'})\n",
    "#df['region'] = df['state'].map({'AR' : 'Southeast', 'TN' : 'Southeast' , 'LA' : 'Southeast', 'MS' : 'Southeast','AL' : 'Southeast', 'GA' : 'Southeast', 'FL' : 'Southeast','SC' : 'Southeast', 'NC' : 'Southeast', 'KY' : 'Southeast', 'VA' : 'Southeast','WV' : 'Southeast'})\n",
    "#df['region'] = df['state'].map({'DC': 'Northeast', 'MD' : 'Northeast', 'DE' : 'Northeast', 'PA' : 'Northeast', 'NJ' : 'Northeast', 'NY' : "
   ]
  },
  {
   "cell_type": "code",
   "execution_count": 435,
   "metadata": {},
   "outputs": [
    {
     "data": {
      "text/plain": [
       "2    802\n",
       "3    791\n",
       "4    776\n",
       "0    705\n",
       "1    259\n",
       "Name: region, dtype: int64"
      ]
     },
     "execution_count": 435,
     "metadata": {},
     "output_type": "execute_result"
    }
   ],
   "source": [
    "df['region'].value_counts()"
   ]
  },
  {
   "cell_type": "markdown",
   "metadata": {},
   "source": [
    "# Data Transformations/EDA"
   ]
  },
  {
   "cell_type": "markdown",
   "metadata": {},
   "source": [
    "check for distributions, use feature engineering if needed to determine which columns are needed "
   ]
  },
  {
   "cell_type": "code",
   "execution_count": 436,
   "metadata": {},
   "outputs": [
    {
     "data": {
      "text/plain": [
       "0.0    0.855086\n",
       "1.0    0.144914\n",
       "Name: churn, dtype: float64"
      ]
     },
     "execution_count": 436,
     "metadata": {},
     "output_type": "execute_result"
    }
   ],
   "source": [
    "# check balance of target data with percentages\n",
    "df['churn'].value_counts(normalize=True)"
   ]
  },
  {
   "cell_type": "markdown",
   "metadata": {},
   "source": [
    "there is an imbalance (85% to 15%), will have to use class_weight = balanced when modeling"
   ]
  },
  {
   "cell_type": "markdown",
   "metadata": {},
   "source": [
    "## Area Code"
   ]
  },
  {
   "cell_type": "code",
   "execution_count": 437,
   "metadata": {},
   "outputs": [
    {
     "data": {
      "image/png": "[encoded data removed]",
      "text/plain": [
       "<Figure size 432x288 with 1 Axes>"
      ]
     },
     "metadata": {
      "needs_background": "light"
     },
     "output_type": "display_data"
    }
   ],
   "source": [
    "sns.countplot(x='area code', hue='churn', data=df, palette = \"Set1\");"
   ]
  },
  {
   "cell_type": "markdown",
   "metadata": {},
   "source": [
    "no significance difference between classes based on area code so this can be dropped"
   ]
  },
  {
   "cell_type": "markdown",
   "metadata": {},
   "source": [
    "## Account Length"
   ]
  },
  {
   "cell_type": "code",
   "execution_count": 438,
   "metadata": {},
   "outputs": [
    {
     "data": {
      "image/png": "[encoded data removed]",
      "text/plain": [
       "<Figure size 360x360 with 1 Axes>"
      ]
     },
     "metadata": {
      "needs_background": "light"
     },
     "output_type": "display_data"
    }
   ],
   "source": [
    "# change from day to month. \n",
    "Account_Lgth_Month = round(df['account length']/30)\n",
    "# plot churn vs. not churn based on account length by month\n",
    "plt.subplots(figsize = (5, 5))\n",
    "sns.set_context('poster', font_scale = 0.6)\n",
    "plt.title('Account Length by Month Count')\n",
    "sns.countplot(x = Account_Lgth_Month, hue = 'churn', data = df, palette = 'Set1')\n",
    "plt.savefig('Account Length.jpg', dpi=300, bbox_inches='tight')\n",
    "\n",
    "#print('Mean Account Length for Not Churn    :', round((df[df['churn']==0]['account length']/30).mean(),2))\n",
    "#print('Std Dev Account Length for Not Churn :', round((df[df['churn']==0]['account length']/30).std(),2))\n",
    "#print('Mean Account Length for Churn        :', round((df[df['churn']==1]['account length']/30).mean(),2))\n",
    "#print('Std Dev Account Length for Churn     :', round((df[df['churn']==1]['account length']/30).std(),2))"
   ]
  },
  {
   "cell_type": "markdown",
   "metadata": {},
   "source": [
    "both means and std deviations are similar so this doesnt have an effect on churn rate, can be dropped"
   ]
  },
  {
   "cell_type": "markdown",
   "metadata": {},
   "source": [
    "## States"
   ]
  },
  {
   "cell_type": "code",
   "execution_count": 450,
   "metadata": {},
   "outputs": [
    {
     "data": {
      "image/png": "[encoded data removed]",
      "text/plain": [
       "<Figure size 4388.4x1440 with 1 Axes>"
      ]
     },
     "metadata": {
      "needs_background": "light"
     },
     "output_type": "display_data"
    }
   ],
   "source": [
    "# churn rates group by states\n",
    "State_Churn = df.groupby('state')['churn'].value_counts(normalize=True)\n",
    "State_Churn = pd.DataFrame(State_Churn)\n",
    "State_Churn.columns = ['Value']\n",
    "State_Churn = State_Churn.reset_index()\n",
    "\n",
    "\n",
    "sns.set_context('poster', font_scale = 0.6)\n",
    "g = sns.catplot(data = State_Churn, kind = 'bar', x = 'state', y = 'Value', \n",
    "            hue = 'churn', palette = 'Set1', alpha=1, height=20, aspect=3)\n",
    "plt.title('Churn By State', fontsize = 50)\n",
    "plt.ylabel('% of Customers', fontsize = 50)\n",
    "plt.xlabel('State', fontsize = 50)\n",
    "plt.xticks(fontsize = 40)\n",
    "plt.yticks(fontsize = 40) \n",
    "plt.legend(fontsize = 50)\n",
    "g._legend.remove()\n",
    "plt.hlines(y = 0.25, xmin=0, xmax=51, color='black')\n",
    "plt.hlines(y = 0.05, xmin=0, xmax=51, color='black');\n",
    "plt.savefig('ChurnState.jpg', dpi=300, bbox_inches='tight')"
   ]
  },
  {
   "cell_type": "markdown",
   "metadata": {},
   "source": [
    "CA, MD, NJ, TX have the highest churn rates. Alaska & Hawaii had the lowest churn rate. But there isn't a clear reason why certain states perform better than others, so possibly drop this as well. maybe group by regions"
   ]
  },
  {
   "cell_type": "markdown",
   "metadata": {},
   "source": [
    "## Intl Plan"
   ]
  },
  {
   "cell_type": "code",
   "execution_count": 440,
   "metadata": {},
   "outputs": [
    {
     "name": "stdout",
     "output_type": "stream",
     "text": [
      "The # of customers with international plan: 323\n",
      "The # of customers with no international plan: 3010\n"
     ]
    },
    {
     "data": {
      "image/png": "[encoded data removed]",
      "text/plain": [
       "<Figure size 360x360 with 1 Axes>"
      ]
     },
     "metadata": {
      "needs_background": "light"
     },
     "output_type": "display_data"
    }
   ],
   "source": [
    "# number of customer with and without international plans\n",
    "intl_plan = df[df['international plan'] == 1]\n",
    "print('The # of customers with international plan:', len(intl_plan))\n",
    "no_intl_plan = df[df['international plan'] == 0]\n",
    "print('The # of customers with no international plan:', len(no_intl_plan))\n",
    "sns.set_context('poster', font_scale = 0.6)\n",
    "plt.subplots(figsize = (5, 5))\n",
    "sns.countplot(x = 'international plan', hue = 'churn', data = df, palette = 'Set1');"
   ]
  },
  {
   "cell_type": "code",
   "execution_count": 441,
   "metadata": {},
   "outputs": [
    {
     "data": {
      "text/html": [
       "<div>\n",
       "<style scoped>\n",
       "    .dataframe tbody tr th:only-of-type {\n",
       "        vertical-align: middle;\n",
       "    }\n",
       "\n",
       "    .dataframe tbody tr th {\n",
       "        vertical-align: top;\n",
       "    }\n",
       "\n",
       "    .dataframe thead th {\n",
       "        text-align: right;\n",
       "    }\n",
       "</style>\n",
       "<table border=\"1\" class=\"dataframe\">\n",
       "  <thead>\n",
       "    <tr style=\"text-align: right;\">\n",
       "      <th></th>\n",
       "      <th>international plan</th>\n",
       "      <th>churn</th>\n",
       "      <th>value</th>\n",
       "    </tr>\n",
       "  </thead>\n",
       "  <tbody>\n",
       "    <tr>\n",
       "      <th>0</th>\n",
       "      <td>0</td>\n",
       "      <td>0.0</td>\n",
       "      <td>0.885050</td>\n",
       "    </tr>\n",
       "    <tr>\n",
       "      <th>1</th>\n",
       "      <td>0</td>\n",
       "      <td>1.0</td>\n",
       "      <td>0.114950</td>\n",
       "    </tr>\n",
       "    <tr>\n",
       "      <th>2</th>\n",
       "      <td>1</td>\n",
       "      <td>0.0</td>\n",
       "      <td>0.575851</td>\n",
       "    </tr>\n",
       "    <tr>\n",
       "      <th>3</th>\n",
       "      <td>1</td>\n",
       "      <td>1.0</td>\n",
       "      <td>0.424149</td>\n",
       "    </tr>\n",
       "  </tbody>\n",
       "</table>\n",
       "</div>"
      ],
      "text/plain": [
       "   international plan  churn     value\n",
       "0                   0    0.0  0.885050\n",
       "1                   0    1.0  0.114950\n",
       "2                   1    0.0  0.575851\n",
       "3                   1    1.0  0.424149"
      ]
     },
     "execution_count": 441,
     "metadata": {},
     "output_type": "execute_result"
    }
   ],
   "source": [
    "# churn rates by international plan\n",
    "Churn_By_Intl_Plan = df.groupby('international plan')['churn'].value_counts(normalize=True)\n",
    "Churn_By_Intl_Plan = pd.DataFrame(Churn_By_Intl_Plan)\n",
    "Churn_By_Intl_Plan.columns = ['value']\n",
    "Churn_By_Intl_Plan = Churn_By_Intl_Plan.reset_index()\n",
    "Churn_By_Intl_Plan"
   ]
  },
  {
   "cell_type": "code",
   "execution_count": 442,
   "metadata": {},
   "outputs": [
    {
     "data": {
      "image/png": "[encoded data removed]",
      "text/plain": [
       "<Figure size 439.815x180 with 1 Axes>"
      ]
     },
     "metadata": {
      "needs_background": "light"
     },
     "output_type": "display_data"
    }
   ],
   "source": [
    "sns.set_context('poster', font_scale = 0.7)\n",
    "sns.catplot(data = Churn_By_Intl_Plan, kind = 'bar', x = 'international plan', y = 'value', hue = 'churn', \n",
    "            palette = 'Set1', alpha=1, height=2.5, aspect=2)\n",
    "plt.title('International Plan vs. Churn', fontsize = 10)\n",
    "plt.ylabel('% of Customers', fontsize = 10)\n",
    "plt.xlabel('International Plan', fontsize = 10)\n",
    "plt.xticks(fontsize = 10)\n",
    "ax.set_xticks([0,1])\n",
    "ax.set_xticklabels(['W/o Intl Plan', 'W/ Intl Plan'])\n",
    "#labels = [('Wo Intl Plan'), ('W Intl Plan')]\n",
    "#plt.xticks(labels, rotation='vertical')\n",
    "plt.yticks(fontsize = 10) \n",
    "plt.show()"
   ]
  },
  {
   "cell_type": "code",
   "execution_count": 443,
   "metadata": {},
   "outputs": [
    {
     "data": {
      "image/png": "[encoded data removed]",
      "text/plain": [
       "<Figure size 720x360 with 1 Axes>"
      ]
     },
     "metadata": {
      "needs_background": "light"
     },
     "output_type": "display_data"
    }
   ],
   "source": [
    "import numpy as np \n",
    "import matplotlib.pyplot as plt \n",
    "  #W/O Voicemail','W/ Voicemail\n",
    "plt.subplots(figsize = (10, 5))\n",
    "X = ['Intl Plan', 'No Intl Plan']\n",
    "churnyes = [0.424149, 0.114950]\n",
    "churnno = [0.575851, 0.885050]\n",
    "  \n",
    "X_axis = np.arange(len(X))\n",
    "  \n",
    "plt.bar(X_axis - 0.2, churnyes, 0.4, color='steelblue', label = 'Yes')\n",
    "plt.bar(X_axis + 0.2, churnno, 0.4, color='crimson', label = 'No')\n",
    "  \n",
    "plt.xticks(X_axis, X)\n",
    "ax.tick_params(left=True, bottom=False)\n",
    "plt.ylabel(\"% of Customers\", fontsize = 15)\n",
    "plt.xlabel(\"Type of Plan\", fontsize = 15)\n",
    "plt.title(\"International Plan vs. Churn\")\n",
    "plt.legend(title = 'Churn', fontsize=8, prop={'size': 12})\n",
    "plt.savefig('Internationalchurn.jpg', dpi=300, bbox_inches='tight')\n",
    "plt.show();"
   ]
  },
  {
   "cell_type": "markdown",
   "metadata": {},
   "source": [
    "% of customers who churn is higher for people with an intl plan than those without ones, so maybe it is too expensive or not efficient for intl calls.\n"
   ]
  },
  {
   "cell_type": "markdown",
   "metadata": {},
   "source": [
    "## Customer Service Calls"
   ]
  },
  {
   "cell_type": "code",
   "execution_count": 444,
   "metadata": {},
   "outputs": [
    {
     "data": {
      "text/html": [
       "<div>\n",
       "<style scoped>\n",
       "    .dataframe tbody tr th:only-of-type {\n",
       "        vertical-align: middle;\n",
       "    }\n",
       "\n",
       "    .dataframe tbody tr th {\n",
       "        vertical-align: top;\n",
       "    }\n",
       "\n",
       "    .dataframe thead th {\n",
       "        text-align: right;\n",
       "    }\n",
       "</style>\n",
       "<table border=\"1\" class=\"dataframe\">\n",
       "  <thead>\n",
       "    <tr style=\"text-align: right;\">\n",
       "      <th></th>\n",
       "      <th>count</th>\n",
       "    </tr>\n",
       "    <tr>\n",
       "      <th>customer service calls</th>\n",
       "      <th></th>\n",
       "    </tr>\n",
       "  </thead>\n",
       "  <tbody>\n",
       "    <tr>\n",
       "      <th>0</th>\n",
       "      <td>697</td>\n",
       "    </tr>\n",
       "    <tr>\n",
       "      <th>1</th>\n",
       "      <td>1181</td>\n",
       "    </tr>\n",
       "    <tr>\n",
       "      <th>2</th>\n",
       "      <td>759</td>\n",
       "    </tr>\n",
       "    <tr>\n",
       "      <th>3</th>\n",
       "      <td>429</td>\n",
       "    </tr>\n",
       "    <tr>\n",
       "      <th>4</th>\n",
       "      <td>166</td>\n",
       "    </tr>\n",
       "    <tr>\n",
       "      <th>5</th>\n",
       "      <td>66</td>\n",
       "    </tr>\n",
       "    <tr>\n",
       "      <th>6</th>\n",
       "      <td>22</td>\n",
       "    </tr>\n",
       "    <tr>\n",
       "      <th>7</th>\n",
       "      <td>9</td>\n",
       "    </tr>\n",
       "    <tr>\n",
       "      <th>8</th>\n",
       "      <td>2</td>\n",
       "    </tr>\n",
       "    <tr>\n",
       "      <th>9</th>\n",
       "      <td>2</td>\n",
       "    </tr>\n",
       "  </tbody>\n",
       "</table>\n",
       "</div>"
      ],
      "text/plain": [
       "                        count\n",
       "customer service calls       \n",
       "0                         697\n",
       "1                        1181\n",
       "2                         759\n",
       "3                         429\n",
       "4                         166\n",
       "5                          66\n",
       "6                          22\n",
       "7                           9\n",
       "8                           2\n",
       "9                           2"
      ]
     },
     "execution_count": 444,
     "metadata": {},
     "output_type": "execute_result"
    }
   ],
   "source": [
    "# get # of customer service calls\n",
    "Customer_Service = df.groupby('customer service calls')['churn'].agg(['count'])\n",
    "Customer_Service"
   ]
  },
  {
   "cell_type": "code",
   "execution_count": 445,
   "metadata": {},
   "outputs": [
    {
     "data": {
      "image/png": "[encoded data removed]",
      "text/plain": [
       "<Figure size 720x576 with 1 Axes>"
      ]
     },
     "metadata": {
      "needs_background": "light"
     },
     "output_type": "display_data"
    }
   ],
   "source": [
    "sns.set_context('poster', font_scale = 0.9)\n",
    "plt.figure(figsize=(10, 8))\n",
    "sns.barplot(x='customer service calls', y='churn', data=df, palette='Set1', ci=None)\n",
    "plt.title('Customer Service vs Churn', fontsize = 30)\n",
    "plt.xlabel('Customer Service Calls', fontsize = 20)\n",
    "plt.ylabel('Probability of Churn', fontsize = 20);\n",
    "plt.savefig('CustomerService.jpg', dpi=300, bbox_inches='tight')"
   ]
  },
  {
   "cell_type": "markdown",
   "metadata": {},
   "source": [
    "When there are more customer service calls inc the tendency of churning goes up as well. It looks like once people hit 3 calls, thats when there was a significant rise of customer churn. So 3 calls should be considered as a warning thresold for the company"
   ]
  },
  {
   "cell_type": "markdown",
   "metadata": {},
   "source": [
    "## Voicemail Plans"
   ]
  },
  {
   "cell_type": "code",
   "execution_count": 446,
   "metadata": {},
   "outputs": [
    {
     "name": "stdout",
     "output_type": "stream",
     "text": [
      "# of customers with voicemail plan: 922\n",
      "# of customers with no voicemail plan: 2411\n"
     ]
    },
    {
     "data": {
      "image/png": "[encoded data removed]",
      "text/plain": [
       "<Figure size 432x288 with 1 Axes>"
      ]
     },
     "metadata": {
      "needs_background": "light"
     },
     "output_type": "display_data"
    }
   ],
   "source": [
    "# with vs without voicemail plans customers\n",
    "voicemail_plan = df[df['voice mail plan'] == 1]\n",
    "print('# of customers with voicemail plan:', len(voicemail_plan))\n",
    "no_voicemail_plan = df[df['voice mail plan'] == 0]\n",
    "print('# of customers with no voicemail plan:', len(no_voicemail_plan))\n",
    "sns.set_context('poster', font_scale = 0.6)\n",
    "sns.countplot(x = 'voice mail plan', hue = 'churn', data = df, palette = 'Set1');"
   ]
  },
  {
   "cell_type": "code",
   "execution_count": 447,
   "metadata": {},
   "outputs": [
    {
     "data": {
      "text/html": [
       "<div>\n",
       "<style scoped>\n",
       "    .dataframe tbody tr th:only-of-type {\n",
       "        vertical-align: middle;\n",
       "    }\n",
       "\n",
       "    .dataframe tbody tr th {\n",
       "        vertical-align: top;\n",
       "    }\n",
       "\n",
       "    .dataframe thead th {\n",
       "        text-align: right;\n",
       "    }\n",
       "</style>\n",
       "<table border=\"1\" class=\"dataframe\">\n",
       "  <thead>\n",
       "    <tr style=\"text-align: right;\">\n",
       "      <th></th>\n",
       "      <th>voice mail plan</th>\n",
       "      <th>churn</th>\n",
       "      <th>value</th>\n",
       "    </tr>\n",
       "  </thead>\n",
       "  <tbody>\n",
       "    <tr>\n",
       "      <th>0</th>\n",
       "      <td>0</td>\n",
       "      <td>0.0</td>\n",
       "      <td>0.832849</td>\n",
       "    </tr>\n",
       "    <tr>\n",
       "      <th>1</th>\n",
       "      <td>0</td>\n",
       "      <td>1.0</td>\n",
       "      <td>0.167151</td>\n",
       "    </tr>\n",
       "    <tr>\n",
       "      <th>2</th>\n",
       "      <td>1</td>\n",
       "      <td>0.0</td>\n",
       "      <td>0.913232</td>\n",
       "    </tr>\n",
       "    <tr>\n",
       "      <th>3</th>\n",
       "      <td>1</td>\n",
       "      <td>1.0</td>\n",
       "      <td>0.086768</td>\n",
       "    </tr>\n",
       "  </tbody>\n",
       "</table>\n",
       "</div>"
      ],
      "text/plain": [
       "   voice mail plan  churn     value\n",
       "0                0    0.0  0.832849\n",
       "1                0    1.0  0.167151\n",
       "2                1    0.0  0.913232\n",
       "3                1    1.0  0.086768"
      ]
     },
     "execution_count": 447,
     "metadata": {},
     "output_type": "execute_result"
    }
   ],
   "source": [
    "# churn rates by voicemail plan\n",
    "Churn_By_Voicemail_Plan = df.groupby('voice mail plan')['churn'].value_counts(normalize=True)\n",
    "Churn_By_Voicemail_Plan = pd.DataFrame(Churn_By_Voicemail_Plan)\n",
    "Churn_By_Voicemail_Plan.columns = ['value']\n",
    "Churn_By_Voicemail_Plan = Churn_By_Voicemail_Plan.reset_index()\n",
    "Churn_By_Voicemail_Plan "
   ]
  },
  {
   "cell_type": "code",
   "execution_count": 448,
   "metadata": {},
   "outputs": [
    {
     "ename": "NameError",
     "evalue": "name 'df_train' is not defined",
     "output_type": "error",
     "traceback": [
      "\u001b[0;31m---------------------------------------------------------------------------\u001b[0m",
      "\u001b[0;31mNameError\u001b[0m                                 Traceback (most recent call last)",
      "\u001b[0;32m<ipython-input-448-1cb096a160bf>\u001b[0m in \u001b[0;36m<module>\u001b[0;34m\u001b[0m\n\u001b[0;32m----> 1\u001b[0;31m \u001b[0mdf_voice\u001b[0m \u001b[0;34m=\u001b[0m \u001b[0mdf_train\u001b[0m\u001b[0;34m.\u001b[0m\u001b[0mloc\u001b[0m\u001b[0;34m[\u001b[0m\u001b[0mdf_train\u001b[0m\u001b[0;34m[\u001b[0m\u001b[0;34m'voice mail plan'\u001b[0m\u001b[0;34m]\u001b[0m \u001b[0;34m==\u001b[0m \u001b[0;34m'yes'\u001b[0m\u001b[0;34m]\u001b[0m\u001b[0;34m\u001b[0m\u001b[0;34m\u001b[0m\u001b[0m\n\u001b[0m\u001b[1;32m      2\u001b[0m \u001b[0mdf_non_voice\u001b[0m \u001b[0;34m=\u001b[0m \u001b[0mdf_train\u001b[0m\u001b[0;34m.\u001b[0m\u001b[0mloc\u001b[0m\u001b[0;34m[\u001b[0m\u001b[0mdf_train\u001b[0m\u001b[0;34m[\u001b[0m\u001b[0;34m'voice mail plan'\u001b[0m\u001b[0;34m]\u001b[0m \u001b[0;34m==\u001b[0m \u001b[0;34m'no'\u001b[0m\u001b[0;34m]\u001b[0m\u001b[0;34m\u001b[0m\u001b[0;34m\u001b[0m\u001b[0m\n",
      "\u001b[0;31mNameError\u001b[0m: name 'df_train' is not defined"
     ]
    }
   ],
   "source": [
    "df_voice = df_train.loc[df_train['voice mail plan'] == 'yes']\n",
    "df_non_voice = df_train.loc[df_train['voice mail plan'] == 'no']"
   ]
  },
  {
   "cell_type": "code",
   "execution_count": null,
   "metadata": {},
   "outputs": [],
   "source": [
    "voice_churn = pd.DataFrame(voicemail_plan['churn'].value_counts(normalize=True), columns=['churn'])\n",
    "non_voice_churn = pd.DataFrame(no_voicemail_plan['churn'].value_counts(normalize=True), columns=['churn'])\n",
    "\n",
    "display(voice_churn)\n",
    "display(non_voice_churn)"
   ]
  },
  {
   "cell_type": "code",
   "execution_count": null,
   "metadata": {},
   "outputs": [],
   "source": [
    "#f, axes = plt.subplots(1, 2, figsize=(12, 5), sharey=True)\n",
    "#sns.barplot(x=['Drop', 'Yes Churn'], y='churn', data=voice_churn, ax=axes[0], palette='Set1')\n",
    "#sns.barplot(x=['Drop', 'Yes Churn'], y='churn', data=non_voice_churn, ax=axes[1], palette='Set1')\n",
    "#axes[0].set_title('Voicemail Plan: Yes')\n",
    "axes[1].set_title('Voicemail Plan: No')\n",
    "axes[0].set_ylabel('Probability of Churn')\n",
    "axes[1].set_ylabel('Probability of Churn')\n",
    "plt.ylim(0,1)\n",
    "plt.tight_layout()\n",
    "plt.show()"
   ]
  },
  {
   "cell_type": "code",
   "execution_count": null,
   "metadata": {},
   "outputs": [],
   "source": [
    "#drop the churn(red)\n",
    "#change tick labels to w/ and w/o\n",
    "sns.set_context('poster', font_scale = 0.6)\n",
    "sns.catplot(data = Churn_By_Voicemail_Plan, kind = 'bar', x = 'voice mail plan', y = 'value', \n",
    "            hue = 'churn', palette = 'Set1', alpha=1, height=3, aspect=2)\n",
    "plt.title('Voicemail Plan vs. Churn', fontsize = 15)\n",
    "plt.ylabel('Probability of Churn', fontsize = 13)\n",
    "plt.xlabel('Voicemail Plan', fontsize = 13)\n",
    "plt.xticks(fontsize = 10)\n",
    "plt.yticks(fontsize = 10) \n",
    "plt.show()"
   ]
  },
  {
   "cell_type": "markdown",
   "metadata": {},
   "source": [
    "% of customers who churned is larger for customers w/ voicemail plans than for ones w/o one."
   ]
  },
  {
   "cell_type": "code",
   "execution_count": null,
   "metadata": {},
   "outputs": [],
   "source": [
    "# churn rates of # of voicemail messages\n",
    "Churn_Vo_Qty = df.groupby('number vmail messages')['churn'].value_counts(normalize=True)\n",
    "Churn_Vo_Qty = pd.DataFrame(Churn_Vo_Qty)\n",
    "Churn_Vo_Qty.columns = ['value']\n",
    "Churn_Vo_Qty = Churn_Vo_Qty.reset_index()"
   ]
  },
  {
   "cell_type": "code",
   "execution_count": 451,
   "metadata": {},
   "outputs": [
    {
     "data": {
      "image/png": "[encoded data removed]",
      "text/plain": [
       "<Figure size 4388.4x1440 with 1 Axes>"
      ]
     },
     "metadata": {
      "needs_background": "light"
     },
     "output_type": "display_data"
    }
   ],
   "source": [
    "#do categorical plot\n",
    "sns.set_context('poster', font_scale = 0.6)\n",
    "g = sns.catplot(data = Churn_Vo_Qty, kind = 'bar', x = 'number vmail messages', y = 'value', \n",
    "            hue = 'churn', palette = 'Set1', alpha=1, height=20, aspect=3)\n",
    "plt.title('Voicemail Quantity vs. Churn', fontsize = 50)\n",
    "plt.ylabel('% of Customers', fontsize = 50)\n",
    "plt.xlabel('# of Voicemails', fontsize = 50)\n",
    "plt.xticks(fontsize = 40)\n",
    "plt.yticks(fontsize = 40) \n",
    "plt.legend(fontsize = 50)\n",
    "g._legend.remove()\n",
    "plt.hlines(y = 0.50, xmin=0, xmax=51, color='black')\n",
    "plt.hlines(y = 0.03, xmin=0, xmax=51, color='black');\n",
    "plt.savefig('VoiceMailmessages.jpg', dpi=300, bbox_inches='tight')"
   ]
  },
  {
   "cell_type": "markdown",
   "metadata": {},
   "source": [
    "customers who get more voicemail messages tend to churn more than the others"
   ]
  },
  {
   "cell_type": "markdown",
   "metadata": {},
   "source": [
    "# Call Totals"
   ]
  },
  {
   "cell_type": "code",
   "execution_count": null,
   "metadata": {},
   "outputs": [],
   "source": [
    "TCalls = df[['total day calls', 'total eve calls', 'total night calls', 'total intl calls', 'total calls','churn']]\n",
    "TCalls.head()"
   ]
  },
  {
   "cell_type": "code",
   "execution_count": null,
   "metadata": {},
   "outputs": [],
   "source": [
    "#get sum of churn (y or n) for each type of call\n",
    "TCalls_Churn = TCalls.groupby('churn').sum().reset_index()\n",
    "TCalls_Churn"
   ]
  },
  {
   "cell_type": "code",
   "execution_count": null,
   "metadata": {},
   "outputs": [],
   "source": [
    "r = TCalls_Churn['churn']\n",
    "# Turn call values to percentages\n",
    "Totals = TCalls_Churn['total calls']\n",
    "Day = TCalls_Churn['total day calls'] / Totals\n",
    "Eve = TCalls_Churn['total eve calls'] / Totals\n",
    "Night = TCalls_Churn['total night calls'] / Totals\n",
    "Intl = TCalls_Churn['total intl calls'] / Totals"
   ]
  },
  {
   "cell_type": "code",
   "execution_count": 452,
   "metadata": {},
   "outputs": [
    {
     "data": {
      "image/png": "[encoded data removed]",
      "text/plain": [
       "<Figure size 360x360 with 1 Axes>"
      ]
     },
     "metadata": {
      "needs_background": "light"
     },
     "output_type": "display_data"
    }
   ],
   "source": [
    "plt.figure(figsize=(5,5))\n",
    "names = ('False', 'True')\n",
    "barWidth = 0.65\n",
    "\n",
    "# Day calls\n",
    "plt.bar(r, Day, color='purple', edgecolor='white',\n",
    "        width=barWidth, label='Day Calls')\n",
    "\n",
    "# Eve calls\n",
    "plt.bar(r, Eve, bottom=Day, color='yellow',\n",
    "        edgecolor='white', width=barWidth, label='Eve Calls')\n",
    "\n",
    "# Night calls\n",
    "plt.bar(r, Night, bottom=[i+j for i,j in zip(Day, Eve)],\n",
    "        color='orange', edgecolor='white', width=barWidth, label='Night Calls')\n",
    "\n",
    "# Intl Calls\n",
    "plt.bar(r, Intl, bottom=[i+j+k for i,j,k in zip(Day, Eve, Night)],\n",
    "        color='red', edgecolor='white', width=barWidth, label='Intl Calls')\n",
    "\n",
    "plt.xticks(r, names, fontsize=11)\n",
    "plt.xlabel('Churn', fontsize=12)\n",
    "plt.ylabel('%', fontsize=12)\n",
    "plt.title('Total Calls % and Churn', fontsize=14)\n",
    "plt.legend(fontsize='small')\n",
    "plt.savefig('Account Length.jpg', dpi=300, bbox_inches='tight')\n",
    "plt.show()"
   ]
  },
  {
   "cell_type": "markdown",
   "metadata": {},
   "source": [
    "The timing of calls and intl calls has essentially no effect on customers who churned and those who didn't so these columns can also be dropped"
   ]
  },
  {
   "cell_type": "markdown",
   "metadata": {},
   "source": [
    "## Rates"
   ]
  },
  {
   "cell_type": "code",
   "execution_count": null,
   "metadata": {},
   "outputs": [],
   "source": [
    "# rate/min by timing of day\n",
    "Day_Rt = (df['total day charge'] / df['total day minutes']).median()\n",
    "Eve_Rt = (df['total eve charge'] / df['total eve minutes']).median()\n",
    "Night_Rt = (df['total night charge'] / df['total night minutes']).median()\n",
    "Intl_Rt = (df['total intl charge'] / df['total intl minutes']).median()\n",
    "print(\"Day Rate:\", Day_Rt)\n",
    "print(\"Eve Rate:\", Eve_Rt)\n",
    "print(\"Night Rate:\", Night_Rt)\n",
    "print(\"International Rate:\", Intl_Rt)"
   ]
  },
  {
   "cell_type": "code",
   "execution_count": null,
   "metadata": {},
   "outputs": [],
   "source": [
    "# calculate rates of making one international call, with and without international plan\n",
    "Intl_Plan = df[df['international plan'] == 1]\n",
    "No_Intl_Plan = df[df['international plan'] == 0]\n",
    "Intl_Plan_Rate = (Intl_Plan['total intl charge'] / Intl_Plan['total intl minutes']).median()\n",
    "Non_Intl_Plan_Rate = (No_Intl_Plan['total intl charge'] / No_Intl_Plan['total intl minutes']).median()\n",
    "print(\"Int'l Plan Rate:\", Intl_Plan_Rate)\n",
    "print(\"No Int'l Plan Rate: \", Non_Intl_Plan_Rate)"
   ]
  },
  {
   "cell_type": "markdown",
   "metadata": {},
   "source": [
    "both are the same at 27 cents so it has no effect on price of rates, so you can drop this column"
   ]
  },
  {
   "cell_type": "markdown",
   "metadata": {},
   "source": [
    "## Correlation Mapping"
   ]
  },
  {
   "cell_type": "code",
   "execution_count": null,
   "metadata": {},
   "outputs": [],
   "source": [
    "#make a correlation map\n",
    "chucorr = df.corr()\n",
    "plt.subplots(figsize=(8, 8))\n",
    "\n",
    "sns.heatmap(chucorr, square=True, cmap=\"BuPu\")\n",
    "plt.title(\"Correlation Heat Map\", fontsize=14)\n",
    "plt.show()"
   ]
  },
  {
   "cell_type": "markdown",
   "metadata": {},
   "source": [
    "drop columns where the churn had no relationship with them"
   ]
  },
  {
   "cell_type": "code",
   "execution_count": null,
   "metadata": {},
   "outputs": [],
   "source": [
    "df = df.drop(['area code','phone number', 'account length', 'total charge', 'total calls', 'total mins', \n",
    "          'total day charge','total eve charge', 'total night charge', 'total intl charge', 'state'], axis =1)"
   ]
  },
  {
   "cell_type": "code",
   "execution_count": null,
   "metadata": {},
   "outputs": [],
   "source": [
    "#correlation map after dropping some columns\n",
    "chucorr = df.corr()\n",
    "plt.subplots(figsize=(10, 8))\n",
    "\n",
    "sns.heatmap(chucorr, square=True, cmap=\"BuPu\")\n",
    "plt.title(\"Correlation Heat Map\", fontsize=12)\n",
    "plt.show()"
   ]
  },
  {
   "cell_type": "markdown",
   "metadata": {},
   "source": [
    "# Models"
   ]
  },
  {
   "cell_type": "code",
   "execution_count": null,
   "metadata": {},
   "outputs": [],
   "source": [
    "x = df.drop(['churn'], axis =1)\n",
    "y = df.churn"
   ]
  },
  {
   "cell_type": "code",
   "execution_count": null,
   "metadata": {},
   "outputs": [],
   "source": [
    "x_train, x_test, y_train, y_test = train_test_split(x, y, test_size = 0.20, random_state = 420)"
   ]
  },
  {
   "cell_type": "markdown",
   "metadata": {},
   "source": [
    "Model 1(Unbalanced)"
   ]
  },
  {
   "cell_type": "code",
   "execution_count": null,
   "metadata": {},
   "outputs": [],
   "source": [
    "logreg = LogisticRegression(penalty='l2', dual=False, tol=0.0001, C=1.0, fit_intercept=False, intercept_scaling=1, \n",
    "                            class_weight=None, random_state=420, solver='liblinear', max_iter=100, multi_class='auto', \n",
    "                            verbose=0, warm_start=False, n_jobs=None, l1_ratio=None)"
   ]
  },
  {
   "cell_type": "code",
   "execution_count": null,
   "metadata": {},
   "outputs": [],
   "source": [
    "model_predictions(logreg, x_train, x_test, y_train, y_test)"
   ]
  },
  {
   "cell_type": "code",
   "execution_count": null,
   "metadata": {},
   "outputs": [],
   "source": [
    "confusion_matrix(logreg, x_test, y_test)"
   ]
  },
  {
   "cell_type": "code",
   "execution_count": null,
   "metadata": {},
   "outputs": [],
   "source": [
    "plot_roc(logreg, x_train, x_test, y_train, y_test)"
   ]
  },
  {
   "cell_type": "markdown",
   "metadata": {},
   "source": [
    "Model 2 (Balanced)"
   ]
  },
  {
   "cell_type": "code",
   "execution_count": null,
   "metadata": {},
   "outputs": [],
   "source": [
    "# Instantiate the model, change class_weight to balanced\n",
    "logreg_balanced = LogisticRegression(penalty='l2', dual=False, tol=0.0001, C=1.0, fit_intercept=False, intercept_scaling=1, \n",
    "                            class_weight='balanced', random_state=420, solver='liblinear', max_iter=100, multi_class='auto', \n",
    "                            verbose=0, warm_start=False, n_jobs=None, l1_ratio=None)"
   ]
  },
  {
   "cell_type": "code",
   "execution_count": null,
   "metadata": {},
   "outputs": [],
   "source": [
    "model_predictions(logreg_balanced, x_train, x_test, y_train, y_test)"
   ]
  },
  {
   "cell_type": "code",
   "execution_count": null,
   "metadata": {},
   "outputs": [],
   "source": [
    "confusion_matrix(logreg_balanced, x_test, y_test)"
   ]
  },
  {
   "cell_type": "code",
   "execution_count": null,
   "metadata": {},
   "outputs": [],
   "source": [
    "plot_roc(logreg_balanced, x_train, x_test, y_train, y_test)"
   ]
  },
  {
   "cell_type": "markdown",
   "metadata": {},
   "source": [
    "Accurary scores decreased while F1 scores increased"
   ]
  },
  {
   "cell_type": "markdown",
   "metadata": {},
   "source": [
    "# K-Nearest Neighbor"
   ]
  },
  {
   "cell_type": "code",
   "execution_count": null,
   "metadata": {},
   "outputs": [],
   "source": [
    "# Instantiate StandardScaler\n",
    "scaler = StandardScaler()\n",
    "\n",
    "# Transform the training and test sets\n",
    "x_train_scaled = scaler.fit_transform(x_train)\n",
    "x_test_scaled = scaler.transform(x_test)\n",
    "\n",
    "# Instantiate KNeighborsClassifier\n",
    "knn = KNeighborsClassifier()"
   ]
  },
  {
   "cell_type": "code",
   "execution_count": null,
   "metadata": {},
   "outputs": [],
   "source": [
    "model_predictions(knn, x_train_scaled, x_test_scaled, y_train, y_test)"
   ]
  },
  {
   "cell_type": "code",
   "execution_count": null,
   "metadata": {},
   "outputs": [],
   "source": [
    "confusion_matrix(knn, x_test_scaled, y_test)"
   ]
  },
  {
   "cell_type": "code",
   "execution_count": null,
   "metadata": {},
   "outputs": [],
   "source": [
    "plot_roc_proba(knn, x_train_scaled, x_test_scaled, y_train, y_test)"
   ]
  },
  {
   "cell_type": "markdown",
   "metadata": {},
   "source": [
    "## Model 2"
   ]
  },
  {
   "cell_type": "code",
   "execution_count": null,
   "metadata": {},
   "outputs": [],
   "source": [
    "def find_best_k(x_train_scaled, y_train, x_test_scaled, y_test, min_k=1, max_k=25):\n",
    "    best_k = 0\n",
    "    best_score = 0.0\n",
    "    for k in range(min_k, max_k+1, 2):\n",
    "        knn = KNeighborsClassifier(n_neighbors=k)\n",
    "        knn.fit(x_train_scaled, y_train)\n",
    "        train_score = knn.score(x_train_scaled, y_train)\n",
    "        test_score = knn.score(x_test_scaled, y_test)\n",
    "        if test_score > best_score:\n",
    "            best_k = k\n",
    "            best_score = test_score\n",
    "    \n",
    "    print(\"Best Value for k: {}\".format(best_k))\n",
    "    \n",
    "find_best_k(x_train_scaled, y_train, x_test_scaled, y_test)"
   ]
  },
  {
   "cell_type": "code",
   "execution_count": null,
   "metadata": {},
   "outputs": [],
   "source": [
    "knn_3 = KNeighborsClassifier(n_neighbors=3)"
   ]
  },
  {
   "cell_type": "code",
   "execution_count": null,
   "metadata": {},
   "outputs": [],
   "source": [
    "model_predictions(knn_3, x_train_scaled, x_test_scaled, y_train, y_test)"
   ]
  },
  {
   "cell_type": "code",
   "execution_count": null,
   "metadata": {},
   "outputs": [],
   "source": [
    "confusion_matrix(knn_3, x_test_scaled, y_test)"
   ]
  },
  {
   "cell_type": "code",
   "execution_count": null,
   "metadata": {},
   "outputs": [],
   "source": [
    "plot_roc_proba(knn_3, x_train_scaled, x_test_scaled, y_train, y_test)"
   ]
  },
  {
   "cell_type": "markdown",
   "metadata": {},
   "source": [
    "- Accuracy scores stayed relatively the same\n",
    "- F1 scores are still pretty low\n",
    "- Overfitted"
   ]
  },
  {
   "cell_type": "markdown",
   "metadata": {},
   "source": [
    "# GridSearch"
   ]
  },
  {
   "cell_type": "code",
   "execution_count": null,
   "metadata": {},
   "outputs": [],
   "source": [
    "X_train, X_test, y_train, y_test = train_test_split(x, y, test_size=.20, random_state=420)\n",
    "\n",
    "scaler = StandardScaler()\n",
    "X_train_scaled = scaler.fit_transform(X_train)\n",
    "X_test_scaled = scaler.transform(X_test)\n",
    "\n",
    "knn_clf_gs = KNeighborsClassifier()\n",
    "\n",
    "knn_grid = {'n_neighbors': [3, 5, 7, 9, 11, 13],\n",
    "            'weights':['uniform', 'distance'],\n",
    "            'metric': ['euclidean', 'manhattan'],\n",
    "            'n_jobs': [-1]}\n",
    "\n",
    "knn_gridsearch = GridSearchCV(estimator=knn_clf_gs, \n",
    "                              param_grid=knn_grid, \n",
    "                              cv=5,\n",
    "                              return_train_score=True)\n",
    "\n",
    "\n",
    "# Fit to the data\n",
    "knn_gridsearch.fit(X_train_scaled, y_train)\n",
    "\n",
    "# Best parameters for our Decision Tree model:\n",
    "print('Best parameters for Our KNN Model:')\n",
    "knn_gridsearch.best_params_"
   ]
  },
  {
   "cell_type": "code",
   "execution_count": null,
   "metadata": {},
   "outputs": [],
   "source": [
    "knn_clf_gs = KNeighborsClassifier(metric='manhattan', \n",
    "                                  n_jobs=-1, \n",
    "                                  n_neighbors=7, \n",
    "                                  weights='uniform')\n",
    "\n",
    "knn_clf_gs.fit(X_train_scaled, y_train)\n",
    "\n",
    "print('Train Score:', knn_clf_gs.score(X_train_scaled, y_train))\n",
    "print('Test Score:', knn_clf_gs.score(X_test_scaled, y_test))"
   ]
  },
  {
   "cell_type": "code",
   "execution_count": null,
   "metadata": {},
   "outputs": [],
   "source": [
    "model_control_pp(knn_clf_gs, X_train_scaled, X_test_scaled, y_train, y_test)\n"
   ]
  },
  {
   "cell_type": "markdown",
   "metadata": {},
   "source": [
    "## Decision Trees "
   ]
  },
  {
   "cell_type": "markdown",
   "metadata": {},
   "source": [
    "Below we split X (factors) from y (target)"
   ]
  },
  {
   "cell_type": "code",
   "execution_count": null,
   "metadata": {},
   "outputs": [],
   "source": [
    "y = df['churn']\n",
    "X = df.drop(['churn'], axis=1)"
   ]
  },
  {
   "cell_type": "code",
   "execution_count": null,
   "metadata": {},
   "outputs": [],
   "source": [
    "y.value_counts(normalize=True)"
   ]
  },
  {
   "cell_type": "markdown",
   "metadata": {},
   "source": [
    "## Decision Trees Model 1"
   ]
  },
  {
   "cell_type": "code",
   "execution_count": null,
   "metadata": {},
   "outputs": [],
   "source": [
    "X_train, X_test, y_train, y_test = train_test_split(X, y, test_size=.20, random_state= 420)\n",
    "\n",
    "scaler = StandardScaler()\n",
    "\n",
    "X_train_scaled = scaler.fit_transform(X_train)\n",
    "X_test_scaled = scaler.transform(X_test)\n",
    "\n",
    "\n",
    "DTmodel = DecisionTreeClassifier(random_state=420)\n",
    "\n",
    "DTmodel.fit(X_train_scaled, y_train)\n",
    "\n",
    "\n",
    "model_predictions(DTmodel, X_train_scaled, X_test_scaled, y_train, y_test)\n"
   ]
  },
  {
   "cell_type": "code",
   "execution_count": null,
   "metadata": {},
   "outputs": [],
   "source": [
    "plt.figure(figsize=(12,12), dpi=500, edgecolor='black')\n",
    "\n",
    "tree.plot_tree(DTmodel, \n",
    "               feature_names=X.columns,\n",
    "               class_names=np.unique(y).astype('str'),\n",
    "               filled=True, rounded=True)\n",
    "plt.show()"
   ]
  },
  {
   "cell_type": "code",
   "execution_count": null,
   "metadata": {},
   "outputs": [],
   "source": [
    "confusion_matrix(DTmodel, X_test_scaled, y_test)"
   ]
  },
  {
   "cell_type": "code",
   "execution_count": null,
   "metadata": {},
   "outputs": [],
   "source": [
    "plot_roc_proba(DTmodel, X_train_scaled, X_test_scaled, y_train, y_test)\n"
   ]
  },
  {
   "cell_type": "markdown",
   "metadata": {},
   "source": [
    "## Decision Trees Model 2"
   ]
  },
  {
   "cell_type": "code",
   "execution_count": null,
   "metadata": {},
   "outputs": [],
   "source": [
    "X_train, X_test, y_train, y_test = train_test_split(X, y, test_size=.20, random_state= 420)\n",
    "\n",
    "scaler = StandardScaler()\n",
    "\n",
    "X_train_scaled = scaler.fit_transform(X_train)\n",
    "X_test_scaled = scaler.transform(X_test)\n",
    "\n",
    "\n",
    "DTmodel2 = DecisionTreeClassifier(criterion = 'entropy', random_state=420)\n",
    "\n",
    "DTmodel2.fit(X_train_scaled, y_train)\n",
    "\n",
    "\n",
    "model_predictions(DTmodel2, X_train_scaled, X_test_scaled, y_train, y_test)"
   ]
  },
  {
   "cell_type": "code",
   "execution_count": null,
   "metadata": {},
   "outputs": [],
   "source": []
  }
 ],
 "metadata": {
  "kernelspec": {
   "display_name": "Python 3",
   "language": "python",
   "name": "python3"
  },
  "language_info": {
   "codemirror_mode": {
    "name": "ipython",
    "version": 3
   },
   "file_extension": ".py",
   "mimetype": "text/x-python",
   "name": "python",
   "nbconvert_exporter": "python",
   "pygments_lexer": "ipython3",
   "version": "3.8.5"
  }
 },
 "nbformat": 4,
 "nbformat_minor": 4
}
